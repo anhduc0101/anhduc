{
  "nbformat": 4,
  "nbformat_minor": 0,
  "metadata": {
    "colab": {
      "name": "NP01.ipynb",
      "provenance": [],
      "authorship_tag": "ABX9TyPgFG7G4aeq7LHzftHIZlfz",
      "include_colab_link": true
    },
    "kernelspec": {
      "name": "python3",
      "display_name": "Python 3"
    },
    "language_info": {
      "name": "python"
    }
  },
  "cells": [
    {
      "cell_type": "markdown",
      "metadata": {
        "id": "view-in-github",
        "colab_type": "text"
      },
      "source": [
        "<a href=\"https://colab.research.google.com/github/anhduc0101/anhduc/blob/main/NP01.ipynb\" target=\"_parent\"><img src=\"https://colab.research.google.com/assets/colab-badge.svg\" alt=\"Open In Colab\"/></a>"
      ]
    },
    {
      "cell_type": "code",
      "execution_count": 1,
      "metadata": {
        "id": "LSTbYFUVr5A2"
      },
      "outputs": [],
      "source": [
        "import numpy as np\n",
        "\n",
        "\n"
      ]
    },
    {
      "cell_type": "markdown",
      "source": [
        "Bai 1:"
      ],
      "metadata": {
        "id": "E5OeAdAduWxo"
      }
    },
    {
      "cell_type": "code",
      "source": [
        "A = np.array([5,7,14])\n",
        "\n",
        "print(A)"
      ],
      "metadata": {
        "colab": {
          "base_uri": "https://localhost:8080/"
        },
        "id": "sFh1Hapit2b7",
        "outputId": "b4e2f4f9-4e05-484c-b876-c170acab5f93"
      },
      "execution_count": 2,
      "outputs": [
        {
          "output_type": "stream",
          "name": "stdout",
          "text": [
            "[ 5  7 14]\n"
          ]
        }
      ]
    },
    {
      "cell_type": "markdown",
      "source": [
        "Bai 2"
      ],
      "metadata": {
        "id": "Tj4elKyFug_5"
      }
    },
    {
      "cell_type": "code",
      "source": [
        "A = [[1,2,3],[2,3,4],[3,4,5],[4,5,6],[5,6,7],[6,7,8],[7,8,9],[8,9,10],[9,10,11],[10,11,12],[11,12,13],[12,13,14],[13,14,15],[14,15,1],[15,1,2]]\n",
        "A1 = np.array(A)\n",
        "print(A1)"
      ],
      "metadata": {
        "colab": {
          "base_uri": "https://localhost:8080/"
        },
        "id": "288Dj85wuTPu",
        "outputId": "d93dc7e7-a223-4529-e7b7-3fa1c0a27f04"
      },
      "execution_count": 4,
      "outputs": [
        {
          "output_type": "stream",
          "name": "stdout",
          "text": [
            "[[ 1  2  3]\n",
            " [ 2  3  4]\n",
            " [ 3  4  5]\n",
            " [ 4  5  6]\n",
            " [ 5  6  7]\n",
            " [ 6  7  8]\n",
            " [ 7  8  9]\n",
            " [ 8  9 10]\n",
            " [ 9 10 11]\n",
            " [10 11 12]\n",
            " [11 12 13]\n",
            " [12 13 14]\n",
            " [13 14 15]\n",
            " [14 15  1]\n",
            " [15  1  2]]\n"
          ]
        }
      ]
    },
    {
      "cell_type": "markdown",
      "source": [
        "Bai 3"
      ],
      "metadata": {
        "id": "bHS8KPfvyNBh"
      }
    },
    {
      "cell_type": "code",
      "source": [
        "A = np.random.randint(1000,size=(100,1000))\n",
        "\n",
        "print(A)"
      ],
      "metadata": {
        "colab": {
          "base_uri": "https://localhost:8080/"
        },
        "id": "xROOi3fRyL8N",
        "outputId": "d63dfc02-c31d-4332-99b8-75774101304a"
      },
      "execution_count": 5,
      "outputs": [
        {
          "output_type": "stream",
          "name": "stdout",
          "text": [
            "[[949 156 488 ... 313 553 369]\n",
            " [420  81 727 ... 791 966 582]\n",
            " [810 962 523 ... 674  47 238]\n",
            " ...\n",
            " [937 730 622 ... 949 809 900]\n",
            " [971 243 603 ... 559  82 185]\n",
            " [ 43  32  89 ... 610 102 570]]\n"
          ]
        }
      ]
    },
    {
      "cell_type": "markdown",
      "source": [
        "Bai 4\n"
      ],
      "metadata": {
        "id": "OQcQGmVHzbFK"
      }
    },
    {
      "cell_type": "code",
      "source": [
        "OA1 = [[7],[-5],[8]]\n",
        "OA = np.array(OA1)\n",
        "\n",
        "print(OA)"
      ],
      "metadata": {
        "colab": {
          "base_uri": "https://localhost:8080/"
        },
        "id": "M0aV4zl1zdBc",
        "outputId": "685439ba-92f5-4610-e1b3-7eb9160cb205"
      },
      "execution_count": 17,
      "outputs": [
        {
          "output_type": "stream",
          "name": "stdout",
          "text": [
            "[[ 7]\n",
            " [-5]\n",
            " [ 8]]\n"
          ]
        }
      ]
    },
    {
      "cell_type": "code",
      "source": [
        "OA2 = np.array((7**2)+(-5**2)+(8**2))\n",
        "OA3 = np.sqrt(OA2)\n",
        "\n",
        "print(OA3)"
      ],
      "metadata": {
        "colab": {
          "base_uri": "https://localhost:8080/"
        },
        "id": "pnQ--0DR01GH",
        "outputId": "40421249-96a2-4b0b-8210-a37b3f1a9200"
      },
      "execution_count": 27,
      "outputs": [
        {
          "output_type": "stream",
          "name": "stdout",
          "text": [
            "9.38083151964686\n"
          ]
        }
      ]
    },
    {
      "cell_type": "markdown",
      "source": [
        "Bai 5\n"
      ],
      "metadata": {
        "id": "6sZeMnr95373"
      }
    },
    {
      "cell_type": "code",
      "source": [
        "A = np.random.randint(10,size=2)\n",
        "print(\"A=\",A)\n",
        "A1 = np.array(A)\n",
        "print(A1)\n",
        "B = np.random.randint(10,size=2)\n",
        "print(\"B=\",B)\n",
        "B1 = np.array(B)\n",
        "print(B1)\n",
        "print(A1@B1)"
      ],
      "metadata": {
        "colab": {
          "base_uri": "https://localhost:8080/"
        },
        "id": "36l2CsCE4eED",
        "outputId": "b0bf275c-c73a-4a34-c2f9-d4da3e194942"
      },
      "execution_count": 54,
      "outputs": [
        {
          "output_type": "stream",
          "name": "stdout",
          "text": [
            "A= [5 3]\n",
            "[5 3]\n",
            "B= [1 5]\n",
            "[1 5]\n",
            "20\n"
          ]
        }
      ]
    },
    {
      "cell_type": "code",
      "source": [
        ""
      ],
      "metadata": {
        "colab": {
          "base_uri": "https://localhost:8080/"
        },
        "id": "YOLcMq6F8Xw-",
        "outputId": "18bfa820-e440-44eb-a822-31d907271bce"
      },
      "execution_count": 45,
      "outputs": [
        {
          "output_type": "stream",
          "name": "stdout",
          "text": [
            "[array([8, 5]) array([8, 1, 6])]\n"
          ]
        },
        {
          "output_type": "stream",
          "name": "stderr",
          "text": [
            "/usr/local/lib/python3.7/dist-packages/ipykernel_launcher.py:2: VisibleDeprecationWarning: Creating an ndarray from ragged nested sequences (which is a list-or-tuple of lists-or-tuples-or ndarrays with different lengths or shapes) is deprecated. If you meant to do this, you must specify 'dtype=object' when creating the ndarray.\n",
            "  \n"
          ]
        }
      ]
    }
  ]
}