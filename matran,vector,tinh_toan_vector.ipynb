{
  "nbformat": 4,
  "nbformat_minor": 0,
  "metadata": {
    "colab": {
      "name": "matran,vector,tinh toan vector.ipynb",
      "provenance": [],
      "authorship_tag": "ABX9TyO6PTCV2VCB4v5t6s7ozAbZ",
      "include_colab_link": true
    },
    "kernelspec": {
      "name": "python3",
      "display_name": "Python 3"
    },
    "language_info": {
      "name": "python"
    }
  },
  "cells": [
    {
      "cell_type": "markdown",
      "metadata": {
        "id": "view-in-github",
        "colab_type": "text"
      },
      "source": [
        "<a href=\"https://colab.research.google.com/github/anhduc0101/anhduc/blob/main/matran%2Cvector%2Ctinh_toan_vector.ipynb\" target=\"_parent\"><img src=\"https://colab.research.google.com/assets/colab-badge.svg\" alt=\"Open In Colab\"/></a>"
      ]
    },
    {
      "cell_type": "code",
      "source": [
        "import numpy as np\n",
        "\n",
        "DUC1 = [[2,1,10],[25,3,2]]\n",
        "\n",
        "DUC = np.array(DUC1)\n",
        "print(DUC)"
      ],
      "metadata": {
        "colab": {
          "base_uri": "https://localhost:8080/"
        },
        "id": "JD2O0YLKG7pS",
        "outputId": "021fe2c3-e75c-4ff7-b1d1-6e6ca1918a50"
      },
      "execution_count": 2,
      "outputs": [
        {
          "output_type": "stream",
          "name": "stdout",
          "text": [
            "[[ 2  1 10]\n",
            " [25  3  2]]\n"
          ]
        }
      ]
    },
    {
      "cell_type": "code",
      "source": [
        "A1 = [2,4,5,6]\n",
        "A = np.array(A1)\n",
        "\n",
        "print(' Vector 4 chieu:', A)\n"
      ],
      "metadata": {
        "colab": {
          "base_uri": "https://localhost:8080/"
        },
        "id": "90OB72CsIBoS",
        "outputId": "0ea60702-40aa-4c0a-d86d-7ce884a555c1"
      },
      "execution_count": 4,
      "outputs": [
        {
          "output_type": "stream",
          "name": "stdout",
          "text": [
            " Vector 4 chieu: [2 4 5 6]\n"
          ]
        }
      ]
    },
    {
      "cell_type": "code",
      "source": [
        "\n",
        "_A = [ [ 1, 2, 3 ], [ 4, 5, 6 ] ]   \n",
        "A = np.array(_A)\n",
        "print(\"A[0, 1]:\", A[0, 1]) \n",
        "print(\"A[:, 0]:\", A[:, 0]) \n",
        "print(\"A[1, :]:\", A[1, :]) "
      ],
      "metadata": {
        "colab": {
          "base_uri": "https://localhost:8080/"
        },
        "id": "oRvy5IbdI-Ib",
        "outputId": "7df434a7-be69-48a4-a9cd-ac1f1b53abac"
      },
      "execution_count": 5,
      "outputs": [
        {
          "output_type": "stream",
          "name": "stdout",
          "text": [
            "A[0, 1]: 2\n",
            "A[:, 0]: [1 4]\n",
            "A[1, :]: [4 5 6]\n"
          ]
        }
      ]
    },
    {
      "cell_type": "code",
      "source": [
        "a = [[ 2, 2, 3 ], [ 5, 5, 6 ]]\n",
        "b = [[2, 3, 5], [7, 9, 21]]\n",
        "a1 = np.array(a) \n",
        "b2 = np.array(b)\n",
        "print(\"a1 + b2:\", a1 + b2) \n",
        "print(\"a1 – b2:\",a1 - b2)"
      ],
      "metadata": {
        "colab": {
          "base_uri": "https://localhost:8080/"
        },
        "id": "uKXsMII4J1q4",
        "outputId": "31ae906e-a5d1-421c-a592-6569da89405e"
      },
      "execution_count": 8,
      "outputs": [
        {
          "output_type": "stream",
          "name": "stdout",
          "text": [
            "a1 + b2: [[ 4  5  8]\n",
            " [12 14 27]]\n",
            "a1 – b2: [[  0  -1  -2]\n",
            " [ -2  -4 -15]]\n"
          ]
        }
      ]
    }
  ]
}